{
 "cells": [
  {
   "cell_type": "code",
   "execution_count": 357,
   "metadata": {},
   "outputs": [
    {
     "name": "stderr",
     "output_type": "stream",
     "text": [
      "C:\\Users\\dstackma\\.julia\\v0.6\\Conda\\deps\\usr\\lib\\site-packages\\statsmodels\\compat\\pandas.py:56: FutureWarning: The pandas.core.datetools module is deprecated and will be removed in a future version. Please use the pandas.tseries module instead.\n",
      "  from pandas.core import datetools\n"
     ]
    }
   ],
   "source": [
    "import numpy as np\n",
    "import pandas as pd\n",
    "import matplotlib.pyplot as plt\n",
    "import os\n",
    "import datetime\n",
    "import calendar\n",
    "import itertools as it\n",
    "import statsmodels.api as sm\n",
    "#import statsmodels.formula.api  as sm\n",
    "import time"
   ]
  },
  {
   "cell_type": "code",
   "execution_count": 207,
   "metadata": {},
   "outputs": [
    {
     "name": "stdout",
     "output_type": "stream",
     "text": [
      "0.07998019270640322 0.06849391843236538 1.167697724658285\n",
      "0.07872664232856938 0.1320532572222274 0.5961734226372266\n"
     ]
    },
    {
     "data": {
      "image/png": "[encoded data removed]",
      "text/plain": [
       "<matplotlib.figure.Figure at 0xbe83da0>"
      ]
     },
     "metadata": {},
     "output_type": "display_data"
    }
   ],
   "source": [
    "# Set path load data\n",
    "cpath = 'C:\\Users\\dstackma\\Dropbox\\Problem sets\\D Stackman\\Empirical Asset Pricing'\n",
    "crsp = pd.read_csv(cpath + '/crsp_nyse_retns_1945m1_2016m12.csv')\n",
    "\n",
    "# convert crsp dates pd datetime\n",
    "crsp['date'] = pd.to_datetime(crsp['DATE'], format=\"%Y%m%d\")\n",
    "crsp['year'] = crsp['date'].dt.year\n",
    "\n",
    "# compute monthly dividends\n",
    "crsp['div'] = (crsp['vwretd']-crsp['vwretx'])*crsp['totval'].shift()\n",
    "\n",
    "# monthly log returns\n",
    "crsp['retn'] = np.log(1 + crsp['vwretd'])\n",
    "\n",
    "# collapse to annual \n",
    "prc  = crsp[['year','totval']].groupby('year')[['totval']].last().reset_index()\n",
    "retn = crsp[['year','retn']].groupby('year')[['retn']].sum().reset_index()\n",
    "cash = crsp[['year','div']].groupby('year')[['div']].sum().reset_index()\n",
    "\n",
    "# merge\n",
    "crsp_ann = pd.merge(prc, retn, how='left', on='year')\n",
    "crsp_ann = pd.merge(crsp_ann, cash, how='left', on='year')\n",
    "crsp_ann['div_mkt'] = np.empty(crsp_ann['year'].shape)\n",
    "\n",
    "# compute dividends from reinvesting in NYSE\n",
    "crsp.loc[0,'div'] = 0\n",
    "for t, r in crsp.iterrows():\n",
    "    tau = np.int(np.floor(t/12.))\n",
    "    \n",
    "    # if it's January\n",
    "    if (t%12) == 0:    \n",
    "        crsp_ann.loc[ tau, 'div_mkt']= crsp['div'][t]\n",
    "       # print tau, t, crsp['div'][t]\n",
    "        \n",
    "    else:\n",
    "        crsp_ann.loc[ tau, 'div_mkt']= (crsp['div'][t] + \n",
    "                crsp_ann.loc[ tau, 'div_mkt']*(1+crsp['vwretd'][t-1]) )\n",
    "\n",
    "# rename columns\n",
    "crsp_ann = crsp_ann.rename(index=str, columns={\"totval\" : \"price\", \"div\" : \"div_cash\"})\n",
    "\n",
    "# compute log price dividend ratios and dividend growth rates\n",
    "crsp_ann['pd_cash'] = np.log(crsp_ann['price']/crsp_ann['div_cash'])\n",
    "crsp_ann['pd_mkt']  = np.log(crsp_ann['price']/crsp_ann['div_mkt'])\n",
    "crsp_ann['dg_cash'] = np.log(crsp_ann['div_cash']).diff()\n",
    "crsp_ann['dg_mkt']  = np.log(crsp_ann['div_mkt']).diff()\n",
    "        \n",
    "# report mean and volatility of dividend growth for both cash and mkt\n",
    "print np.mean(crsp_ann['dg_cash']), np.std(crsp_ann['dg_cash']), np.mean(crsp_ann['dg_cash'])/np.std(crsp_ann['dg_cash'])\n",
    "print np.mean(crsp_ann['dg_mkt']),  np.std(crsp_ann['dg_mkt']),  np.mean(crsp_ann['dg_mkt'])/np.std(crsp_ann['dg_mkt']) \n",
    "\n",
    "# explain the difference\n",
    "# ... explanation ...\n",
    "\n",
    "# Plot the two dividend series\n",
    "plt.plot(crsp_ann['year'],crsp_ann['div_cash'])\n",
    "plt.plot(crsp_ann['year'],crsp_ann['div_mkt'])\n",
    "plt.show()"
   ]
  },
  {
   "cell_type": "code",
   "execution_count": 314,
   "metadata": {},
   "outputs": [
    {
     "name": "stdout",
     "output_type": "stream",
     "text": [
      "                 Results: Ordinary least squares\n",
      "=================================================================\n",
      "Model:              OLS              Adj. R-squared:     0.086   \n",
      "Dependent Variable: retn_            AIC:                -59.1888\n",
      "Date:               2018-02-09 12:17 BIC:                -54.6634\n",
      "No. Observations:   71               Log-Likelihood:     31.594  \n",
      "Df Model:           1                F-statistic:        7.567   \n",
      "Df Residuals:       69               Prob (F-statistic): 0.00759 \n",
      "R-squared:          0.099            Scale:              0.024741\n",
      "------------------------------------------------------------------\n",
      "               Coef.   Std.Err.     t     P>|t|    [0.025   0.975]\n",
      "------------------------------------------------------------------\n",
      "Intercept      0.5321    0.1579   3.3695  0.0012   0.2171   0.8472\n",
      "pd_cash       -0.1228    0.0446  -2.7509  0.0076  -0.2118  -0.0337\n",
      "-----------------------------------------------------------------\n",
      "Omnibus:              10.797       Durbin-Watson:          2.076 \n",
      "Prob(Omnibus):        0.005        Jarque-Bera (JB):       10.879\n",
      "Skew:                 -0.836       Prob(JB):               0.004 \n",
      "Kurtosis:             3.940        Condition No.:          32    \n",
      "=================================================================\n",
      "\n",
      "                  Results: Ordinary least squares\n",
      "==================================================================\n",
      "Model:              OLS              Adj. R-squared:     -0.013   \n",
      "Dependent Variable: divg_            AIC:                -175.2969\n",
      "Date:               2018-02-09 12:17 BIC:                -170.7716\n",
      "No. Observations:   71               Log-Likelihood:     89.648   \n",
      "Df Model:           1                F-statistic:        0.08046  \n",
      "Df Residuals:       69               Prob (F-statistic): 0.778    \n",
      "R-squared:          0.001            Scale:              0.0048218\n",
      "--------------------------------------------------------------------\n",
      "             Coef.    Std.Err.      t      P>|t|     [0.025   0.975]\n",
      "--------------------------------------------------------------------\n",
      "Intercept    0.0996     0.0697    1.4288   0.1576   -0.0395   0.2387\n",
      "pd_cash     -0.0056     0.0197   -0.2837   0.7775   -0.0449   0.0337\n",
      "------------------------------------------------------------------\n",
      "Omnibus:               9.151        Durbin-Watson:          1.562 \n",
      "Prob(Omnibus):         0.010        Jarque-Bera (JB):       21.616\n",
      "Skew:                  -0.064       Prob(JB):               0.000 \n",
      "Kurtosis:              5.700        Condition No.:          32    \n",
      "==================================================================\n",
      "\n",
      "                 Results: Ordinary least squares\n",
      "=================================================================\n",
      "Model:              OLS              Adj. R-squared:     0.224   \n",
      "Dependent Variable: retn_            AIC:                -49.8684\n",
      "Date:               2018-02-09 12:17 BIC:                -46.2112\n",
      "No. Observations:   46               Log-Likelihood:     26.934  \n",
      "Df Model:           1                F-statistic:        14.02   \n",
      "Df Residuals:       44               Prob (F-statistic): 0.000521\n",
      "R-squared:          0.242            Scale:              0.018978\n",
      "------------------------------------------------------------------\n",
      "               Coef.   Std.Err.     t     P>|t|    [0.025   0.975]\n",
      "------------------------------------------------------------------\n",
      "Intercept      1.1061    0.2672   4.1401  0.0002   0.5677   1.6446\n",
      "pd_cash       -0.3053    0.0815  -3.7448  0.0005  -0.4696  -0.1410\n",
      "-----------------------------------------------------------------\n",
      "Omnibus:               1.842        Durbin-Watson:          2.074\n",
      "Prob(Omnibus):         0.398        Jarque-Bera (JB):       1.717\n",
      "Skew:                  -0.449       Prob(JB):               0.424\n",
      "Kurtosis:              2.700        Condition No.:          47   \n",
      "=================================================================\n",
      "\n",
      "                  Results: Ordinary least squares\n",
      "==================================================================\n",
      "Model:              OLS              Adj. R-squared:     -0.022   \n",
      "Dependent Variable: divg_            AIC:                -128.6736\n",
      "Date:               2018-02-09 12:17 BIC:                -125.0163\n",
      "No. Observations:   46               Log-Likelihood:     66.337   \n",
      "Df Model:           1                F-statistic:        0.04951  \n",
      "Df Residuals:       44               Prob (F-statistic): 0.825    \n",
      "R-squared:          0.001            Scale:              0.0034216\n",
      "--------------------------------------------------------------------\n",
      "             Coef.    Std.Err.      t      P>|t|     [0.025   0.975]\n",
      "--------------------------------------------------------------------\n",
      "Intercept    0.1100     0.1134    0.9693   0.3377   -0.1187   0.3386\n",
      "pd_cash     -0.0077     0.0346   -0.2225   0.8250   -0.0775   0.0621\n",
      "------------------------------------------------------------------\n",
      "Omnibus:               3.096        Durbin-Watson:           1.346\n",
      "Prob(Omnibus):         0.213        Jarque-Bera (JB):        2.378\n",
      "Skew:                  0.553        Prob(JB):                0.305\n",
      "Kurtosis:              3.124        Condition No.:           47   \n",
      "==================================================================\n",
      "\n",
      "                 Results: Ordinary least squares\n",
      "=================================================================\n",
      "Model:              OLS              Adj. R-squared:     0.134   \n",
      "Dependent Variable: retn_            AIC:                -16.7373\n",
      "Date:               2018-02-09 12:17 BIC:                -14.2212\n",
      "No. Observations:   26               Log-Likelihood:     10.369  \n",
      "Df Model:           1                F-statistic:        4.884   \n",
      "Df Residuals:       24               Prob (F-statistic): 0.0369  \n",
      "R-squared:          0.169            Scale:              0.028569\n",
      "------------------------------------------------------------------\n",
      "               Coef.   Std.Err.     t     P>|t|    [0.025   0.975]\n",
      "------------------------------------------------------------------\n",
      "Intercept      1.1243    0.4672   2.4063  0.0242   0.1600   2.0886\n",
      "pd_cash       -0.2612    0.1182  -2.2099  0.0369  -0.5052  -0.0173\n",
      "-----------------------------------------------------------------\n",
      "Omnibus:              18.291       Durbin-Watson:          1.885 \n",
      "Prob(Omnibus):        0.000        Jarque-Bera (JB):       24.829\n",
      "Skew:                 -1.517       Prob(JB):               0.000 \n",
      "Kurtosis:             6.703        Condition No.:          59    \n",
      "=================================================================\n",
      "\n",
      "                  Results: Ordinary least squares\n",
      "==================================================================\n",
      "Model:              OLS              Adj. R-squared:     0.029    \n",
      "Dependent Variable: divg_            AIC:                -52.4921 \n",
      "Date:               2018-02-09 12:17 BIC:                -49.9759 \n",
      "No. Observations:   26               Log-Likelihood:     28.246   \n",
      "Df Model:           1                F-statistic:        1.754    \n",
      "Df Residuals:       24               Prob (F-statistic): 0.198    \n",
      "R-squared:          0.068            Scale:              0.0072221\n",
      "--------------------------------------------------------------------\n",
      "             Coef.    Std.Err.      t      P>|t|     [0.025   0.975]\n",
      "--------------------------------------------------------------------\n",
      "Intercept   -0.2424     0.2349   -1.0320   0.3124   -0.7273   0.2424\n",
      "pd_cash      0.0787     0.0594    1.3245   0.1978   -0.0439   0.2014\n",
      "------------------------------------------------------------------\n",
      "Omnibus:              2.786         Durbin-Watson:           1.598\n",
      "Prob(Omnibus):        0.248         Jarque-Bera (JB):        1.464\n",
      "Skew:                 -0.013        Prob(JB):                0.481\n",
      "Kurtosis:             4.162         Condition No.:           59   \n",
      "==================================================================\n",
      "\n"
     ]
    }
   ],
   "source": [
    "# lag values of lhs variables\n",
    "crsp_ann['retn_'] = crsp_ann['retn'].shift(-1) \n",
    "crsp_ann['divg_'] = crsp_ann['dg_cash'].shift(-1)\n",
    "crsp_ann['pd_cash_'] = crsp_ann['pd_cash'].shift(-1) \n",
    "\n",
    "#crsp_ann.head()\n",
    "\n",
    "# run predictive regressions\n",
    "retn_results = sm.ols('retn_ ~ pd_cash', data=crsp_ann).fit()\n",
    "print(retn_results.summary2())\n",
    "divg_results = sm.ols('divg_ ~ pd_cash', data=crsp_ann).fit()\n",
    "print(divg_results.summary2())\n",
    "\n",
    "# predictive regressions 1945:1990\n",
    "crsp_ann_4590 = crsp_ann[(crsp_ann['year']>=1945) & (crsp_ann['year']<=1990)] \n",
    "retn4590_results = sm.ols('retn_ ~ pd_cash', data=crsp_ann_4590).fit()\n",
    "print(retn4590_results.summary2())\n",
    "divg4590_results = sm.ols('divg_ ~ pd_cash', data=crsp_ann_4590).fit()\n",
    "print(divg4590_results.summary2())\n",
    "\n",
    "# predictive regressions 1990:2016\n",
    "crsp_ann_9016 = crsp_ann[(crsp_ann['year']>=1990) & (crsp_ann['year']<=2016)] \n",
    "retn9016_results = sm.ols('retn_ ~ pd_cash', data=crsp_ann_9016).fit()\n",
    "print(retn9016_results.summary2())\n",
    "divg9016_results = sm.ols('divg_ ~ pd_cash', data=crsp_ann_9016).fit()\n",
    "print(divg9016_results.summary2())\n",
    "\n",
    "# explain the differences\n",
    "# ... explanation ..."
   ]
  },
  {
   "cell_type": "code",
   "execution_count": 315,
   "metadata": {},
   "outputs": [
    {
     "name": "stdout",
     "output_type": "stream",
     "text": [
      "                 Results: Ordinary least squares\n",
      "=================================================================\n",
      "Model:              OLS              Adj. R-squared:     0.818   \n",
      "Dependent Variable: pd_cash_         AIC:                -39.6730\n",
      "Date:               2018-02-09 12:17 BIC:                -35.1476\n",
      "No. Observations:   71               Log-Likelihood:     21.836  \n",
      "Df Model:           1                F-statistic:        315.4   \n",
      "Df Residuals:       69               Prob (F-statistic): 1.95e-27\n",
      "R-squared:          0.820            Scale:              0.032568\n",
      "-------------------------------------------------------------------\n",
      "            Coef.    Std.Err.      t      P>|t|     [0.025   0.975]\n",
      "-------------------------------------------------------------------\n",
      "Intercept   0.3258     0.1812    1.7981   0.0765   -0.0357   0.6873\n",
      "pd_cash     0.9092     0.0512   17.7583   0.0000    0.8070   1.0113\n",
      "-----------------------------------------------------------------\n",
      "Omnibus:               1.469        Durbin-Watson:          2.086\n",
      "Prob(Omnibus):         0.480        Jarque-Bera (JB):       1.020\n",
      "Skew:                  -0.287       Prob(JB):               0.600\n",
      "Kurtosis:              3.124        Condition No.:          32   \n",
      "=================================================================\n",
      "\n",
      "                 Results: Ordinary least squares\n",
      "=================================================================\n",
      "Model:              OLS              Adj. R-squared:     0.542   \n",
      "Dependent Variable: pd_cash_         AIC:                -28.5982\n",
      "Date:               2018-02-09 12:17 BIC:                -24.9409\n",
      "No. Observations:   46               Log-Likelihood:     16.299  \n",
      "Df Model:           1                F-statistic:        54.16   \n",
      "Df Residuals:       44               Prob (F-statistic): 3.41e-09\n",
      "R-squared:          0.552            Scale:              0.030135\n",
      "-------------------------------------------------------------------\n",
      "              Coef.    Std.Err.     t      P>|t|    [0.025   0.975]\n",
      "-------------------------------------------------------------------\n",
      "Intercept     0.8021     0.3367   2.3824   0.0216   0.1236   1.4806\n",
      "pd_cash       0.7561     0.1027   7.3596   0.0000   0.5490   0.9631\n",
      "-----------------------------------------------------------------\n",
      "Omnibus:               0.423        Durbin-Watson:          1.851\n",
      "Prob(Omnibus):         0.809        Jarque-Bera (JB):       0.583\n",
      "Skew:                  -0.131       Prob(JB):               0.747\n",
      "Kurtosis:              2.515        Condition No.:          47   \n",
      "=================================================================\n",
      "\n",
      "                 Results: Ordinary least squares\n",
      "=================================================================\n",
      "Model:              OLS              Adj. R-squared:     0.544   \n",
      "Dependent Variable: pd_cash_         AIC:                -15.6465\n",
      "Date:               2018-02-09 12:17 BIC:                -13.1303\n",
      "No. Observations:   26               Log-Likelihood:     9.8232  \n",
      "Df Model:           1                F-statistic:        30.79   \n",
      "Df Residuals:       24               Prob (F-statistic): 1.04e-05\n",
      "R-squared:          0.562            Scale:              0.029793\n",
      "-------------------------------------------------------------------\n",
      "              Coef.    Std.Err.     t      P>|t|    [0.025   0.975]\n",
      "-------------------------------------------------------------------\n",
      "Intercept     1.3227     0.4771   2.7722   0.0106   0.3380   2.3075\n",
      "pd_cash       0.6699     0.1207   5.5491   0.0000   0.4207   0.9190\n",
      "-----------------------------------------------------------------\n",
      "Omnibus:               6.211        Durbin-Watson:          1.990\n",
      "Prob(Omnibus):         0.045        Jarque-Bera (JB):       4.293\n",
      "Skew:                  -0.753       Prob(JB):               0.117\n",
      "Kurtosis:              4.301        Condition No.:          59   \n",
      "=================================================================\n",
      "\n"
     ]
    }
   ],
   "source": [
    "# Campell-Shiller variance decomposition\n",
    "\n",
    "# run predictive regressions\n",
    "pd_results = sm.ols('pd_cash_ ~ pd_cash', data=crsp_ann).fit()\n",
    "print(pd_results.summary2())\n",
    "\n",
    "# predictive regressions 1945:1990\n",
    "pd4590_results = sm.ols('pd_cash_ ~ pd_cash', data=crsp_ann_4590).fit()\n",
    "print(pd4590_results.summary2())\n",
    "\n",
    "# predictive regressions 1990:2016\n",
    "pd9016_results = sm.ols('pd_cash_ ~ pd_cash', data=crsp_ann_9016).fit()\n",
    "print(pd9016_results.summary2())\n"
   ]
  },
  {
   "cell_type": "code",
   "execution_count": 312,
   "metadata": {},
   "outputs": [
    {
     "name": "stdout",
     "output_type": "stream",
     "text": [
      "-0.005557922882557557 -0.10971787762397872\n"
     ]
    },
    {
     "data": {
      "image/png": "[encoded data removed]",
      "text/plain": [
       "<matplotlib.figure.Figure at 0x16cf4a58>"
      ]
     },
     "metadata": {},
     "output_type": "display_data"
    },
    {
     "data": {
      "image/png": "[encoded data removed]",
      "text/plain": [
       "<matplotlib.figure.Figure at 0xeb9e4e0>"
      ]
     },
     "metadata": {},
     "output_type": "display_data"
    },
    {
     "data": {
      "image/png": "[encoded data removed]",
      "text/plain": [
       "<matplotlib.figure.Figure at 0x17108f60>"
      ]
     },
     "metadata": {},
     "output_type": "display_data"
    }
   ],
   "source": [
    "# Using estimated regression coefficients...\n",
    "a_r = retn_results.params[0];\n",
    "b_r = retn_results.params[1];\n",
    "a_d = divg_results.params[0];\n",
    "b_d = divg_results.params[1];\n",
    "\n",
    "# Approximation requires constant rho = 1-D/P\n",
    "rho= 1-np.mean(crsp_ann['div_cash']/crsp_ann['price']);\n",
    "\n",
    "# Compute `NPV' of expected retns, divg: vector method\n",
    "T = crsp_ann['pd_cash'].shape[0];\n",
    "retn_npv = np.empty(T);\n",
    "divg_npv = np.empty(T);\n",
    "S = 200; # approx infinity with 200\n",
    "\n",
    "t0 = time.clock() # Time it!\n",
    "for t in range(T):\n",
    "    pt  = crsp_ann['pd_cash'][t]\n",
    "    ceR = 0.;\n",
    "    ceD = 0.;\n",
    "    for s in range(1,S):\n",
    "        eR  = a_r*sum(np.power(np.tile(b_r,s),range(s))) + pt*np.power(b_r,s)\n",
    "        ceR+= np.power(rho,s-1)*eR\n",
    "        eD  = a_d*sum(np.power(np.tile(b_d,s),range(s))) + pt*np.power(b_d,s)\n",
    "        ceD+= np.power(rho,s-1)*eD\n",
    "    \n",
    "    retn_npv[t] = ceR\n",
    "    divg_npv[t] = ceD\n",
    "\n",
    "# Print time elapsed\n",
    "#print time.clock()-t0    \n",
    "\n",
    "# Add derived series to dataframe\n",
    "crsp_ann['retn_npv'] = retn_npv;\n",
    "crsp_ann['divg_npv'] = divg_npv;\n",
    "\n",
    "# Print variance decomposition\n",
    "vcv_retn_pd = np.cov(crsp_ann['retn_npv'],crsp_ann['pd_cash']);\n",
    "vcv_divg_pd = np.cov(crsp_ann['divg_npv'],crsp_ann['pd_cash']);\n",
    "print vcv_divg_pd[0,1]/vcv_divg_pd[1,1],vcv_retn_pd[0,1]/vcv_retn_pd[1,1]\n",
    "\n",
    "# Plot derived series\n",
    "plt.plot(crsp_ann['year'],crsp_ann['pd_cash'])\n",
    "plt.show()\n",
    "plt.plot(crsp_ann['year'],retn_npv)\n",
    "plt.show()\n",
    "plt.plot(crsp_ann['year'],divg_npv)\n",
    "plt.show()"
   ]
  },
  {
   "cell_type": "code",
   "execution_count": 309,
   "metadata": {},
   "outputs": [
    {
     "name": "stdout",
     "output_type": "stream",
     "text": [
      "0.0996182133485007 -0.005587980759800124 0.5321384227989507 -0.12275250597141885\n"
     ]
    }
   ],
   "source": [
    "# Simulate returns and pd ratios from estimated system (`45-`90)\n",
    "a_rt = retn4590_results.params[0];\n",
    "b_rt = retn4590_results.params[1];\n",
    "a_pd = pd4590_results.params[0];\n",
    "b_pd = pd4590_results.params[1];\n"
   ]
  },
  {
   "cell_type": "code",
   "execution_count": 305,
   "metadata": {},
   "outputs": [
    {
     "name": "stdout",
     "output_type": "stream",
     "text": [
      "[[ 1.41854611 -1.05464959]\n",
      " [-1.05464959  1.14383664]]\n",
      "1.1438366370345108\n"
     ]
    }
   ],
   "source": [
    "rmat1 = np.random.normal(0,1,4);\n",
    "rmat2 = np.random.normal(0,1,4);\n",
    "\n",
    "print np.cov(rmat1,rmat2)\n",
    "print np.cov(rmat1,rmat2)[1,1]"
   ]
  },
  {
   "cell_type": "code",
   "execution_count": 368,
   "metadata": {},
   "outputs": [
    {
     "ename": "ValueError",
     "evalue": "endog and exog matrices are different sizes",
     "output_type": "error",
     "traceback": [
      "\u001b[1;31m---------------------------------------------------------------------------\u001b[0m",
      "\u001b[1;31mValueError\u001b[0m                                Traceback (most recent call last)",
      "\u001b[1;32m<ipython-input-368-4e6cc2c9df99>\u001b[0m in \u001b[0;36m<module>\u001b[1;34m()\u001b[0m\n\u001b[0;32m      1\u001b[0m \u001b[0mY\u001b[0m \u001b[1;33m=\u001b[0m \u001b[0mcrsp_ann\u001b[0m\u001b[1;33m[\u001b[0m\u001b[1;33m[\u001b[0m\u001b[1;34m'retn_'\u001b[0m\u001b[1;33m,\u001b[0m\u001b[1;34m'pd_cash_'\u001b[0m\u001b[1;33m]\u001b[0m\u001b[1;33m]\u001b[0m\u001b[1;33m[\u001b[0m\u001b[1;33m:\u001b[0m\u001b[1;33m-\u001b[0m\u001b[1;36m1\u001b[0m\u001b[1;33m]\u001b[0m\u001b[1;33m.\u001b[0m\u001b[0mas_matrix\u001b[0m\u001b[1;33m(\u001b[0m\u001b[1;33m)\u001b[0m\u001b[1;33m\u001b[0m\u001b[0m\n\u001b[0;32m      2\u001b[0m \u001b[0mX\u001b[0m \u001b[1;33m=\u001b[0m \u001b[0mnp\u001b[0m\u001b[1;33m.\u001b[0m\u001b[0mhstack\u001b[0m\u001b[1;33m(\u001b[0m\u001b[1;33m(\u001b[0m\u001b[0mcrsp_ann\u001b[0m\u001b[1;33m[\u001b[0m\u001b[1;33m[\u001b[0m\u001b[1;34m'retn'\u001b[0m\u001b[1;33m,\u001b[0m\u001b[1;34m'pd_cash'\u001b[0m\u001b[1;33m]\u001b[0m\u001b[1;33m]\u001b[0m\u001b[1;33m[\u001b[0m\u001b[1;33m:\u001b[0m\u001b[1;33m-\u001b[0m\u001b[1;36m1\u001b[0m\u001b[1;33m]\u001b[0m\u001b[1;33m.\u001b[0m\u001b[0mas_matrix\u001b[0m\u001b[1;33m(\u001b[0m\u001b[1;33m)\u001b[0m\u001b[1;33m,\u001b[0m\u001b[0mnp\u001b[0m\u001b[1;33m.\u001b[0m\u001b[0mones\u001b[0m\u001b[1;33m(\u001b[0m\u001b[1;33m[\u001b[0m\u001b[1;36m71\u001b[0m\u001b[1;33m,\u001b[0m\u001b[1;36m1\u001b[0m\u001b[1;33m]\u001b[0m\u001b[1;33m)\u001b[0m\u001b[1;33m)\u001b[0m\u001b[1;33m)\u001b[0m\u001b[1;33m\u001b[0m\u001b[0m\n\u001b[1;32m----> 3\u001b[1;33m \u001b[0mres\u001b[0m \u001b[1;33m=\u001b[0m \u001b[0msm\u001b[0m\u001b[1;33m.\u001b[0m\u001b[0mOLS\u001b[0m\u001b[1;33m(\u001b[0m\u001b[0mY\u001b[0m\u001b[1;33m,\u001b[0m\u001b[0mX\u001b[0m\u001b[1;33m.\u001b[0m\u001b[0mtranspose\u001b[0m\u001b[1;33m(\u001b[0m\u001b[1;33m)\u001b[0m\u001b[1;33m)\u001b[0m\u001b[1;33m.\u001b[0m\u001b[0mfit\u001b[0m\u001b[1;33m(\u001b[0m\u001b[1;33m)\u001b[0m\u001b[1;33m\u001b[0m\u001b[0m\n\u001b[0m\u001b[0;32m      4\u001b[0m \u001b[1;32mprint\u001b[0m\u001b[1;33m(\u001b[0m\u001b[0mres\u001b[0m\u001b[1;33m.\u001b[0m\u001b[0msummary\u001b[0m\u001b[1;33m(\u001b[0m\u001b[1;33m)\u001b[0m\u001b[1;33m)\u001b[0m\u001b[1;33m\u001b[0m\u001b[0m\n",
      "\u001b[1;32mC:\\Users\\dstackma\\.julia\\v0.6\\Conda\\deps\\usr\\lib\\site-packages\\statsmodels\\regression\\linear_model.pyc\u001b[0m in \u001b[0;36m__init__\u001b[1;34m(self, endog, exog, missing, hasconst, **kwargs)\u001b[0m\n\u001b[0;32m    629\u001b[0m                  **kwargs):\n\u001b[0;32m    630\u001b[0m         super(OLS, self).__init__(endog, exog, missing=missing,\n\u001b[1;32m--> 631\u001b[1;33m                                   hasconst=hasconst, **kwargs)\n\u001b[0m\u001b[0;32m    632\u001b[0m         \u001b[1;32mif\u001b[0m \u001b[1;34m\"weights\"\u001b[0m \u001b[1;32min\u001b[0m \u001b[0mself\u001b[0m\u001b[1;33m.\u001b[0m\u001b[0m_init_keys\u001b[0m\u001b[1;33m:\u001b[0m\u001b[1;33m\u001b[0m\u001b[0m\n\u001b[0;32m    633\u001b[0m             \u001b[0mself\u001b[0m\u001b[1;33m.\u001b[0m\u001b[0m_init_keys\u001b[0m\u001b[1;33m.\u001b[0m\u001b[0mremove\u001b[0m\u001b[1;33m(\u001b[0m\u001b[1;34m\"weights\"\u001b[0m\u001b[1;33m)\u001b[0m\u001b[1;33m\u001b[0m\u001b[0m\n",
      "\u001b[1;32mC:\\Users\\dstackma\\.julia\\v0.6\\Conda\\deps\\usr\\lib\\site-packages\\statsmodels\\regression\\linear_model.pyc\u001b[0m in \u001b[0;36m__init__\u001b[1;34m(self, endog, exog, weights, missing, hasconst, **kwargs)\u001b[0m\n\u001b[0;32m    524\u001b[0m             \u001b[0mweights\u001b[0m \u001b[1;33m=\u001b[0m \u001b[0mweights\u001b[0m\u001b[1;33m.\u001b[0m\u001b[0msqueeze\u001b[0m\u001b[1;33m(\u001b[0m\u001b[1;33m)\u001b[0m\u001b[1;33m\u001b[0m\u001b[0m\n\u001b[0;32m    525\u001b[0m         super(WLS, self).__init__(endog, exog, missing=missing,\n\u001b[1;32m--> 526\u001b[1;33m                                   weights=weights, hasconst=hasconst, **kwargs)\n\u001b[0m\u001b[0;32m    527\u001b[0m         \u001b[0mnobs\u001b[0m \u001b[1;33m=\u001b[0m \u001b[0mself\u001b[0m\u001b[1;33m.\u001b[0m\u001b[0mexog\u001b[0m\u001b[1;33m.\u001b[0m\u001b[0mshape\u001b[0m\u001b[1;33m[\u001b[0m\u001b[1;36m0\u001b[0m\u001b[1;33m]\u001b[0m\u001b[1;33m\u001b[0m\u001b[0m\n\u001b[0;32m    528\u001b[0m         \u001b[0mweights\u001b[0m \u001b[1;33m=\u001b[0m \u001b[0mself\u001b[0m\u001b[1;33m.\u001b[0m\u001b[0mweights\u001b[0m\u001b[1;33m\u001b[0m\u001b[0m\n",
      "\u001b[1;32mC:\\Users\\dstackma\\.julia\\v0.6\\Conda\\deps\\usr\\lib\\site-packages\\statsmodels\\regression\\linear_model.pyc\u001b[0m in \u001b[0;36m__init__\u001b[1;34m(self, endog, exog, **kwargs)\u001b[0m\n\u001b[0;32m     93\u001b[0m     \"\"\"\n\u001b[0;32m     94\u001b[0m     \u001b[1;32mdef\u001b[0m \u001b[0m__init__\u001b[0m\u001b[1;33m(\u001b[0m\u001b[0mself\u001b[0m\u001b[1;33m,\u001b[0m \u001b[0mendog\u001b[0m\u001b[1;33m,\u001b[0m \u001b[0mexog\u001b[0m\u001b[1;33m,\u001b[0m \u001b[1;33m**\u001b[0m\u001b[0mkwargs\u001b[0m\u001b[1;33m)\u001b[0m\u001b[1;33m:\u001b[0m\u001b[1;33m\u001b[0m\u001b[0m\n\u001b[1;32m---> 95\u001b[1;33m         \u001b[0msuper\u001b[0m\u001b[1;33m(\u001b[0m\u001b[0mRegressionModel\u001b[0m\u001b[1;33m,\u001b[0m \u001b[0mself\u001b[0m\u001b[1;33m)\u001b[0m\u001b[1;33m.\u001b[0m\u001b[0m__init__\u001b[0m\u001b[1;33m(\u001b[0m\u001b[0mendog\u001b[0m\u001b[1;33m,\u001b[0m \u001b[0mexog\u001b[0m\u001b[1;33m,\u001b[0m \u001b[1;33m**\u001b[0m\u001b[0mkwargs\u001b[0m\u001b[1;33m)\u001b[0m\u001b[1;33m\u001b[0m\u001b[0m\n\u001b[0m\u001b[0;32m     96\u001b[0m         \u001b[0mself\u001b[0m\u001b[1;33m.\u001b[0m\u001b[0m_data_attr\u001b[0m\u001b[1;33m.\u001b[0m\u001b[0mextend\u001b[0m\u001b[1;33m(\u001b[0m\u001b[1;33m[\u001b[0m\u001b[1;34m'pinv_wexog'\u001b[0m\u001b[1;33m,\u001b[0m \u001b[1;34m'wendog'\u001b[0m\u001b[1;33m,\u001b[0m \u001b[1;34m'wexog'\u001b[0m\u001b[1;33m,\u001b[0m \u001b[1;34m'weights'\u001b[0m\u001b[1;33m]\u001b[0m\u001b[1;33m)\u001b[0m\u001b[1;33m\u001b[0m\u001b[0m\n\u001b[0;32m     97\u001b[0m \u001b[1;33m\u001b[0m\u001b[0m\n",
      "\u001b[1;32mC:\\Users\\dstackma\\.julia\\v0.6\\Conda\\deps\\usr\\lib\\site-packages\\statsmodels\\base\\model.pyc\u001b[0m in \u001b[0;36m__init__\u001b[1;34m(self, endog, exog, **kwargs)\u001b[0m\n\u001b[0;32m    210\u001b[0m \u001b[1;33m\u001b[0m\u001b[0m\n\u001b[0;32m    211\u001b[0m     \u001b[1;32mdef\u001b[0m \u001b[0m__init__\u001b[0m\u001b[1;33m(\u001b[0m\u001b[0mself\u001b[0m\u001b[1;33m,\u001b[0m \u001b[0mendog\u001b[0m\u001b[1;33m,\u001b[0m \u001b[0mexog\u001b[0m\u001b[1;33m=\u001b[0m\u001b[0mNone\u001b[0m\u001b[1;33m,\u001b[0m \u001b[1;33m**\u001b[0m\u001b[0mkwargs\u001b[0m\u001b[1;33m)\u001b[0m\u001b[1;33m:\u001b[0m\u001b[1;33m\u001b[0m\u001b[0m\n\u001b[1;32m--> 212\u001b[1;33m         \u001b[0msuper\u001b[0m\u001b[1;33m(\u001b[0m\u001b[0mLikelihoodModel\u001b[0m\u001b[1;33m,\u001b[0m \u001b[0mself\u001b[0m\u001b[1;33m)\u001b[0m\u001b[1;33m.\u001b[0m\u001b[0m__init__\u001b[0m\u001b[1;33m(\u001b[0m\u001b[0mendog\u001b[0m\u001b[1;33m,\u001b[0m \u001b[0mexog\u001b[0m\u001b[1;33m,\u001b[0m \u001b[1;33m**\u001b[0m\u001b[0mkwargs\u001b[0m\u001b[1;33m)\u001b[0m\u001b[1;33m\u001b[0m\u001b[0m\n\u001b[0m\u001b[0;32m    213\u001b[0m         \u001b[0mself\u001b[0m\u001b[1;33m.\u001b[0m\u001b[0minitialize\u001b[0m\u001b[1;33m(\u001b[0m\u001b[1;33m)\u001b[0m\u001b[1;33m\u001b[0m\u001b[0m\n\u001b[0;32m    214\u001b[0m \u001b[1;33m\u001b[0m\u001b[0m\n",
      "\u001b[1;32mC:\\Users\\dstackma\\.julia\\v0.6\\Conda\\deps\\usr\\lib\\site-packages\\statsmodels\\base\\model.pyc\u001b[0m in \u001b[0;36m__init__\u001b[1;34m(self, endog, exog, **kwargs)\u001b[0m\n\u001b[0;32m     61\u001b[0m         \u001b[0mhasconst\u001b[0m \u001b[1;33m=\u001b[0m \u001b[0mkwargs\u001b[0m\u001b[1;33m.\u001b[0m\u001b[0mpop\u001b[0m\u001b[1;33m(\u001b[0m\u001b[1;34m'hasconst'\u001b[0m\u001b[1;33m,\u001b[0m \u001b[0mNone\u001b[0m\u001b[1;33m)\u001b[0m\u001b[1;33m\u001b[0m\u001b[0m\n\u001b[0;32m     62\u001b[0m         self.data = self._handle_data(endog, exog, missing, hasconst,\n\u001b[1;32m---> 63\u001b[1;33m                                       **kwargs)\n\u001b[0m\u001b[0;32m     64\u001b[0m         \u001b[0mself\u001b[0m\u001b[1;33m.\u001b[0m\u001b[0mk_constant\u001b[0m \u001b[1;33m=\u001b[0m \u001b[0mself\u001b[0m\u001b[1;33m.\u001b[0m\u001b[0mdata\u001b[0m\u001b[1;33m.\u001b[0m\u001b[0mk_constant\u001b[0m\u001b[1;33m\u001b[0m\u001b[0m\n\u001b[0;32m     65\u001b[0m         \u001b[0mself\u001b[0m\u001b[1;33m.\u001b[0m\u001b[0mexog\u001b[0m \u001b[1;33m=\u001b[0m \u001b[0mself\u001b[0m\u001b[1;33m.\u001b[0m\u001b[0mdata\u001b[0m\u001b[1;33m.\u001b[0m\u001b[0mexog\u001b[0m\u001b[1;33m\u001b[0m\u001b[0m\n",
      "\u001b[1;32mC:\\Users\\dstackma\\.julia\\v0.6\\Conda\\deps\\usr\\lib\\site-packages\\statsmodels\\base\\model.pyc\u001b[0m in \u001b[0;36m_handle_data\u001b[1;34m(self, endog, exog, missing, hasconst, **kwargs)\u001b[0m\n\u001b[0;32m     86\u001b[0m \u001b[1;33m\u001b[0m\u001b[0m\n\u001b[0;32m     87\u001b[0m     \u001b[1;32mdef\u001b[0m \u001b[0m_handle_data\u001b[0m\u001b[1;33m(\u001b[0m\u001b[0mself\u001b[0m\u001b[1;33m,\u001b[0m \u001b[0mendog\u001b[0m\u001b[1;33m,\u001b[0m \u001b[0mexog\u001b[0m\u001b[1;33m,\u001b[0m \u001b[0mmissing\u001b[0m\u001b[1;33m,\u001b[0m \u001b[0mhasconst\u001b[0m\u001b[1;33m,\u001b[0m \u001b[1;33m**\u001b[0m\u001b[0mkwargs\u001b[0m\u001b[1;33m)\u001b[0m\u001b[1;33m:\u001b[0m\u001b[1;33m\u001b[0m\u001b[0m\n\u001b[1;32m---> 88\u001b[1;33m         \u001b[0mdata\u001b[0m \u001b[1;33m=\u001b[0m \u001b[0mhandle_data\u001b[0m\u001b[1;33m(\u001b[0m\u001b[0mendog\u001b[0m\u001b[1;33m,\u001b[0m \u001b[0mexog\u001b[0m\u001b[1;33m,\u001b[0m \u001b[0mmissing\u001b[0m\u001b[1;33m,\u001b[0m \u001b[0mhasconst\u001b[0m\u001b[1;33m,\u001b[0m \u001b[1;33m**\u001b[0m\u001b[0mkwargs\u001b[0m\u001b[1;33m)\u001b[0m\u001b[1;33m\u001b[0m\u001b[0m\n\u001b[0m\u001b[0;32m     89\u001b[0m         \u001b[1;31m# kwargs arrays could have changed, easier to just attach here\u001b[0m\u001b[1;33m\u001b[0m\u001b[1;33m\u001b[0m\u001b[0m\n\u001b[0;32m     90\u001b[0m         \u001b[1;32mfor\u001b[0m \u001b[0mkey\u001b[0m \u001b[1;32min\u001b[0m \u001b[0mkwargs\u001b[0m\u001b[1;33m:\u001b[0m\u001b[1;33m\u001b[0m\u001b[0m\n",
      "\u001b[1;32mC:\\Users\\dstackma\\.julia\\v0.6\\Conda\\deps\\usr\\lib\\site-packages\\statsmodels\\base\\data.pyc\u001b[0m in \u001b[0;36mhandle_data\u001b[1;34m(endog, exog, missing, hasconst, **kwargs)\u001b[0m\n\u001b[0;32m    628\u001b[0m     \u001b[0mklass\u001b[0m \u001b[1;33m=\u001b[0m \u001b[0mhandle_data_class_factory\u001b[0m\u001b[1;33m(\u001b[0m\u001b[0mendog\u001b[0m\u001b[1;33m,\u001b[0m \u001b[0mexog\u001b[0m\u001b[1;33m)\u001b[0m\u001b[1;33m\u001b[0m\u001b[0m\n\u001b[0;32m    629\u001b[0m     return klass(endog, exog=exog, missing=missing, hasconst=hasconst,\n\u001b[1;32m--> 630\u001b[1;33m                  **kwargs)\n\u001b[0m",
      "\u001b[1;32mC:\\Users\\dstackma\\.julia\\v0.6\\Conda\\deps\\usr\\lib\\site-packages\\statsmodels\\base\\data.pyc\u001b[0m in \u001b[0;36m__init__\u001b[1;34m(self, endog, exog, missing, hasconst, **kwargs)\u001b[0m\n\u001b[0;32m     78\u001b[0m         \u001b[1;31m# this has side-effects, attaches k_constant and const_idx\u001b[0m\u001b[1;33m\u001b[0m\u001b[1;33m\u001b[0m\u001b[0m\n\u001b[0;32m     79\u001b[0m         \u001b[0mself\u001b[0m\u001b[1;33m.\u001b[0m\u001b[0m_handle_constant\u001b[0m\u001b[1;33m(\u001b[0m\u001b[0mhasconst\u001b[0m\u001b[1;33m)\u001b[0m\u001b[1;33m\u001b[0m\u001b[0m\n\u001b[1;32m---> 80\u001b[1;33m         \u001b[0mself\u001b[0m\u001b[1;33m.\u001b[0m\u001b[0m_check_integrity\u001b[0m\u001b[1;33m(\u001b[0m\u001b[1;33m)\u001b[0m\u001b[1;33m\u001b[0m\u001b[0m\n\u001b[0m\u001b[0;32m     81\u001b[0m         \u001b[0mself\u001b[0m\u001b[1;33m.\u001b[0m\u001b[0m_cache\u001b[0m \u001b[1;33m=\u001b[0m \u001b[0mresettable_cache\u001b[0m\u001b[1;33m(\u001b[0m\u001b[1;33m)\u001b[0m\u001b[1;33m\u001b[0m\u001b[0m\n\u001b[0;32m     82\u001b[0m \u001b[1;33m\u001b[0m\u001b[0m\n",
      "\u001b[1;32mC:\\Users\\dstackma\\.julia\\v0.6\\Conda\\deps\\usr\\lib\\site-packages\\statsmodels\\base\\data.pyc\u001b[0m in \u001b[0;36m_check_integrity\u001b[1;34m(self)\u001b[0m\n\u001b[0;32m    401\u001b[0m         \u001b[1;32mif\u001b[0m \u001b[0mself\u001b[0m\u001b[1;33m.\u001b[0m\u001b[0mexog\u001b[0m \u001b[1;32mis\u001b[0m \u001b[1;32mnot\u001b[0m \u001b[0mNone\u001b[0m\u001b[1;33m:\u001b[0m\u001b[1;33m\u001b[0m\u001b[0m\n\u001b[0;32m    402\u001b[0m             \u001b[1;32mif\u001b[0m \u001b[0mlen\u001b[0m\u001b[1;33m(\u001b[0m\u001b[0mself\u001b[0m\u001b[1;33m.\u001b[0m\u001b[0mexog\u001b[0m\u001b[1;33m)\u001b[0m \u001b[1;33m!=\u001b[0m \u001b[0mlen\u001b[0m\u001b[1;33m(\u001b[0m\u001b[0mself\u001b[0m\u001b[1;33m.\u001b[0m\u001b[0mendog\u001b[0m\u001b[1;33m)\u001b[0m\u001b[1;33m:\u001b[0m\u001b[1;33m\u001b[0m\u001b[0m\n\u001b[1;32m--> 403\u001b[1;33m                 \u001b[1;32mraise\u001b[0m \u001b[0mValueError\u001b[0m\u001b[1;33m(\u001b[0m\u001b[1;34m\"endog and exog matrices are different sizes\"\u001b[0m\u001b[1;33m)\u001b[0m\u001b[1;33m\u001b[0m\u001b[0m\n\u001b[0m\u001b[0;32m    404\u001b[0m \u001b[1;33m\u001b[0m\u001b[0m\n\u001b[0;32m    405\u001b[0m     \u001b[1;32mdef\u001b[0m \u001b[0mwrap_output\u001b[0m\u001b[1;33m(\u001b[0m\u001b[0mself\u001b[0m\u001b[1;33m,\u001b[0m \u001b[0mobj\u001b[0m\u001b[1;33m,\u001b[0m \u001b[0mhow\u001b[0m\u001b[1;33m=\u001b[0m\u001b[1;34m'columns'\u001b[0m\u001b[1;33m,\u001b[0m \u001b[0mnames\u001b[0m\u001b[1;33m=\u001b[0m\u001b[0mNone\u001b[0m\u001b[1;33m)\u001b[0m\u001b[1;33m:\u001b[0m\u001b[1;33m\u001b[0m\u001b[0m\n",
      "\u001b[1;31mValueError\u001b[0m: endog and exog matrices are different sizes"
     ]
    }
   ],
   "source": []
  },
  {
   "cell_type": "code",
   "execution_count": null,
   "metadata": {},
   "outputs": [],
   "source": []
  },
  {
   "cell_type": "code",
   "execution_count": 366,
   "metadata": {},
   "outputs": [
    {
     "data": {
      "text/plain": [
       "array([[1., 1., 1., 1., 1., 1.],\n",
       "       [1., 1., 1., 1., 1., 1.],\n",
       "       [1., 1., 1., 1., 1., 1.],\n",
       "       [1., 1., 1., 1., 1., 1.],\n",
       "       [1., 1., 1., 1., 1., 1.]])"
      ]
     },
     "execution_count": 366,
     "metadata": {},
     "output_type": "execute_result"
    }
   ],
   "source": [
    "np.ones([6,5]).transpose()"
   ]
  },
  {
   "cell_type": "code",
   "execution_count": 171,
   "metadata": {},
   "outputs": [
    {
     "data": {
      "text/html": [
       "<div>\n",
       "<style scoped>\n",
       "    .dataframe tbody tr th:only-of-type {\n",
       "        vertical-align: middle;\n",
       "    }\n",
       "\n",
       "    .dataframe tbody tr th {\n",
       "        vertical-align: top;\n",
       "    }\n",
       "\n",
       "    .dataframe thead th {\n",
       "        text-align: right;\n",
       "    }\n",
       "</style>\n",
       "<table border=\"1\" class=\"dataframe\">\n",
       "  <thead>\n",
       "    <tr style=\"text-align: right;\">\n",
       "      <th></th>\n",
       "      <th>year</th>\n",
       "      <th>div</th>\n",
       "      <th>div_mktwt</th>\n",
       "    </tr>\n",
       "  </thead>\n",
       "  <tbody>\n",
       "    <tr>\n",
       "      <th>0</th>\n",
       "      <td>1945</td>\n",
       "      <td>2.189254e+06</td>\n",
       "      <td>1.915637e+06</td>\n",
       "    </tr>\n",
       "    <tr>\n",
       "      <th>1</th>\n",
       "      <td>1946</td>\n",
       "      <td>2.599130e+06</td>\n",
       "      <td>2.797160e+06</td>\n",
       "    </tr>\n",
       "    <tr>\n",
       "      <th>2</th>\n",
       "      <td>1947</td>\n",
       "      <td>3.231866e+06</td>\n",
       "      <td>3.144116e+06</td>\n",
       "    </tr>\n",
       "    <tr>\n",
       "      <th>3</th>\n",
       "      <td>1948</td>\n",
       "      <td>3.757384e+06</td>\n",
       "      <td>3.867839e+06</td>\n",
       "    </tr>\n",
       "    <tr>\n",
       "      <th>4</th>\n",
       "      <td>1949</td>\n",
       "      <td>4.139718e+06</td>\n",
       "      <td>3.709899e+06</td>\n",
       "    </tr>\n",
       "  </tbody>\n",
       "</table>\n",
       "</div>"
      ],
      "text/plain": [
       "   year           div     div_mktwt\n",
       "0  1945  2.189254e+06  1.915637e+06\n",
       "1  1946  2.599130e+06  2.797160e+06\n",
       "2  1947  3.231866e+06  3.144116e+06\n",
       "3  1948  3.757384e+06  3.867839e+06\n",
       "4  1949  4.139718e+06  3.709899e+06"
      ]
     },
     "execution_count": 171,
     "metadata": {},
     "output_type": "execute_result"
    }
   ],
   "source": [
    "div_df.head()"
   ]
  },
  {
   "cell_type": "code",
   "execution_count": 172,
   "metadata": {},
   "outputs": [
    {
     "data": {
      "image/png": "[encoded data removed]",
      "text/plain": [
       "<matplotlib.figure.Figure at 0xba9c7b8>"
      ]
     },
     "metadata": {},
     "output_type": "display_data"
    }
   ],
   "source": [
    "\n",
    "plt.plot(div_ann['year'],div_ann['div_cash'])\n",
    "plt.plot(div_ann['year'],div_ann['div_mkt'])\n",
    "plt.show()"
   ]
  },
  {
   "cell_type": "code",
   "execution_count": 211,
   "metadata": {},
   "outputs": [
    {
     "name": "stdout",
     "output_type": "stream",
     "text": [
      "0.99719428937924\n",
      "0.9678117439949462\n",
      "0.9972021393665348\n",
      "0.9688155180822983\n"
     ]
    }
   ],
   "source": [
    "print 1-np.mean(crsp['div']/crsp['totval'])\n",
    "print 1-np.mean(crsp_ann['div_cash']/crsp_ann['price'])\n",
    "print 1/(1+np.mean(crsp['div']/crsp['totval']))\n",
    "print 1/(1+np.mean(crsp_ann['div_cash']/crsp_ann['price']))"
   ]
  },
  {
   "cell_type": "code",
   "execution_count": 284,
   "metadata": {},
   "outputs": [
    {
     "name": "stdout",
     "output_type": "stream",
     "text": [
      "0.253553716746\n"
     ]
    },
    {
     "data": {
      "image/png": "[encoded data removed]",
      "text/plain": [
       "<matplotlib.figure.Figure at 0xe93b978>"
      ]
     },
     "metadata": {},
     "output_type": "display_data"
    },
    {
     "name": "stdout",
     "output_type": "stream",
     "text": [
      "0.0443131512866\n"
     ]
    },
    {
     "data": {
      "image/png": "[encoded data removed]",
      "text/plain": [
       "<matplotlib.figure.Figure at 0xc35f128>"
      ]
     },
     "metadata": {},
     "output_type": "display_data"
    }
   ],
   "source": [
    "#aa =  0.5321; # retns\n",
    "#bb = -0.1228; # retns\n",
    "aa =  0.0996; # div growth  \n",
    "bb = -0.0056; # div growth    \n",
    "p0 = 3.38;\n",
    "T  = 250;\n",
    "rho= 1-np.mean(crsp_ann['div_cash']/crsp_ann['price']);\n",
    "MM = 2;\n",
    "\n",
    "# loop method\n",
    "t0 = time.clock()\n",
    "NPV= np.empty(T-1)\n",
    "for m in range(MM):\n",
    "    ceR= 0.;\n",
    "    for s in range(1,T):\n",
    "        eR = 0.;\n",
    "        for r in range(s):\n",
    "            eR+=aa*np.power(bb,r)\n",
    "\n",
    "        eR+= p0*np.power(bb,s)\n",
    "        ceR+= np.power(rho,s-1)*eR\n",
    "        NPV[s-1]=ceR;\n",
    "    \n",
    "print time.clock()-t0    \n",
    "\n",
    "plt.plot(range(T-1),NPV)\n",
    "plt.show()\n",
    "\n",
    "# vector method\n",
    "t0 = time.clock()\n",
    "NPV= np.empty(T-1)\n",
    "for m in range(MM):\n",
    "    eR = 0.;\n",
    "    ceR= 0.;\n",
    "    for s in range(1,T):\n",
    "        eR = aa*sum(np.power(np.tile(bb,s),range(s))) + p0*np.power(bb,s)\n",
    "        ceR+= np.power(rho,s-1)*eR\n",
    "        NPV[s-1]=ceR;\n",
    "    \n",
    "print time.clock()-t0    \n",
    "\n",
    "plt.plot(range(T-1),NPV)\n",
    "plt.show()"
   ]
  },
  {
   "cell_type": "code",
   "execution_count": 243,
   "metadata": {},
   "outputs": [
    {
     "data": {
      "text/plain": [
       "0.008270043630693502"
      ]
     },
     "execution_count": 243,
     "metadata": {},
     "output_type": "execute_result"
    }
   ],
   "source": [
    "(NPV[248]-NPV[199])/NPV[248]"
   ]
  },
  {
   "cell_type": "code",
   "execution_count": 285,
   "metadata": {},
   "outputs": [
    {
     "data": {
      "text/html": [
       "<div>\n",
       "<style scoped>\n",
       "    .dataframe tbody tr th:only-of-type {\n",
       "        vertical-align: middle;\n",
       "    }\n",
       "\n",
       "    .dataframe tbody tr th {\n",
       "        vertical-align: top;\n",
       "    }\n",
       "\n",
       "    .dataframe thead th {\n",
       "        text-align: right;\n",
       "    }\n",
       "</style>\n",
       "<table border=\"1\" class=\"dataframe\">\n",
       "  <thead>\n",
       "    <tr style=\"text-align: right;\">\n",
       "      <th></th>\n",
       "      <th>year</th>\n",
       "      <th>price</th>\n",
       "      <th>retn</th>\n",
       "      <th>div_cash</th>\n",
       "      <th>div_mkt</th>\n",
       "      <th>pd_cash</th>\n",
       "      <th>pd_mkt</th>\n",
       "      <th>dg_cash</th>\n",
       "      <th>dg_mkt</th>\n",
       "      <th>retn_</th>\n",
       "      <th>divg_</th>\n",
       "    </tr>\n",
       "  </thead>\n",
       "  <tbody>\n",
       "    <tr>\n",
       "      <th>0</th>\n",
       "      <td>1945</td>\n",
       "      <td>64330622.1</td>\n",
       "      <td>0.329732</td>\n",
       "      <td>2.189254e+06</td>\n",
       "      <td>2.564464e+06</td>\n",
       "      <td>3.380475</td>\n",
       "      <td>3.222286</td>\n",
       "      <td>NaN</td>\n",
       "      <td>NaN</td>\n",
       "      <td>-0.066366</td>\n",
       "      <td>0.171616</td>\n",
       "    </tr>\n",
       "    <tr>\n",
       "      <th>1</th>\n",
       "      <td>1946</td>\n",
       "      <td>59684383.6</td>\n",
       "      <td>-0.066366</td>\n",
       "      <td>2.599130e+06</td>\n",
       "      <td>2.319926e+06</td>\n",
       "      <td>3.133894</td>\n",
       "      <td>3.247535</td>\n",
       "      <td>0.171616</td>\n",
       "      <td>-0.100215</td>\n",
       "      <td>0.032401</td>\n",
       "      <td>0.217883</td>\n",
       "    </tr>\n",
       "    <tr>\n",
       "      <th>2</th>\n",
       "      <td>1947</td>\n",
       "      <td>59885360.7</td>\n",
       "      <td>0.032401</td>\n",
       "      <td>3.231866e+06</td>\n",
       "      <td>3.263681e+06</td>\n",
       "      <td>2.919373</td>\n",
       "      <td>2.909576</td>\n",
       "      <td>0.217883</td>\n",
       "      <td>0.341321</td>\n",
       "      <td>0.021090</td>\n",
       "      <td>0.150663</td>\n",
       "    </tr>\n",
       "    <tr>\n",
       "      <th>3</th>\n",
       "      <td>1948</td>\n",
       "      <td>58301258.2</td>\n",
       "      <td>0.021090</td>\n",
       "      <td>3.757384e+06</td>\n",
       "      <td>3.610419e+06</td>\n",
       "      <td>2.741901</td>\n",
       "      <td>2.781800</td>\n",
       "      <td>0.150663</td>\n",
       "      <td>0.100968</td>\n",
       "      <td>0.183232</td>\n",
       "      <td>0.096905</td>\n",
       "    </tr>\n",
       "    <tr>\n",
       "      <th>4</th>\n",
       "      <td>1949</td>\n",
       "      <td>67344403.4</td>\n",
       "      <td>0.183232</td>\n",
       "      <td>4.139718e+06</td>\n",
       "      <td>4.534289e+06</td>\n",
       "      <td>2.789192</td>\n",
       "      <td>2.698151</td>\n",
       "      <td>0.096905</td>\n",
       "      <td>0.227844</td>\n",
       "      <td>0.266000</td>\n",
       "      <td>0.240540</td>\n",
       "    </tr>\n",
       "  </tbody>\n",
       "</table>\n",
       "</div>"
      ],
      "text/plain": [
       "   year       price      retn      div_cash       div_mkt   pd_cash    pd_mkt  \\\n",
       "0  1945  64330622.1  0.329732  2.189254e+06  2.564464e+06  3.380475  3.222286   \n",
       "1  1946  59684383.6 -0.066366  2.599130e+06  2.319926e+06  3.133894  3.247535   \n",
       "2  1947  59885360.7  0.032401  3.231866e+06  3.263681e+06  2.919373  2.909576   \n",
       "3  1948  58301258.2  0.021090  3.757384e+06  3.610419e+06  2.741901  2.781800   \n",
       "4  1949  67344403.4  0.183232  4.139718e+06  4.534289e+06  2.789192  2.698151   \n",
       "\n",
       "    dg_cash    dg_mkt     retn_     divg_  \n",
       "0       NaN       NaN -0.066366  0.171616  \n",
       "1  0.171616 -0.100215  0.032401  0.217883  \n",
       "2  0.217883  0.341321  0.021090  0.150663  \n",
       "3  0.150663  0.100968  0.183232  0.096905  \n",
       "4  0.096905  0.227844  0.266000  0.240540  "
      ]
     },
     "execution_count": 285,
     "metadata": {},
     "output_type": "execute_result"
    }
   ],
   "source": [
    "crsp_ann.head()"
   ]
  },
  {
   "cell_type": "code",
   "execution_count": null,
   "metadata": {},
   "outputs": [],
   "source": []
  }
 ],
 "metadata": {
  "kernelspec": {
   "display_name": "Python 2",
   "language": "python",
   "name": "python2"
  },
  "language_info": {
   "codemirror_mode": {
    "name": "ipython",
    "version": 2
   },
   "file_extension": ".py",
   "mimetype": "text/x-python",
   "name": "python",
   "nbconvert_exporter": "python",
   "pygments_lexer": "ipython2",
   "version": "2.7.14"
  }
 },
 "nbformat": 4,
 "nbformat_minor": 2
}
